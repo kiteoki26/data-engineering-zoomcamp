{
  "cells": [
    {
      "cell_type": "markdown",
      "metadata": {
        "id": "mrTFv5nPClXh"
      },
      "source": [
        "# **Homework**: Data talks club data engineering zoomcamp Data loading workshop\n",
        "\n",
        "Hello folks, let's practice what we learned - Loading data with the best practices of data engineering.\n",
        "\n",
        "Here are the exercises we will do\n",
        "\n",
        "\n"
      ]
    },
    {
      "cell_type": "markdown",
      "metadata": {
        "id": "wLF4iXf-NR7t"
      },
      "source": [
        "# 1. Use a generator\n",
        "\n",
        "Remember the concept of generator? Let's practice using them to futher our understanding of how they work.\n",
        "\n",
        "Let's define a generator and then run it as practice.\n",
        "\n",
        "**Answer the following questions:**\n",
        "\n",
        "- **Question 1: What is the sum of the outputs of the generator for limit = 5?**\n",
        "- **Question 2: What is the 13th number yielded**\n",
        "\n",
        "I suggest practicing these questions without GPT as the purpose is to further your learning."
      ]
    },
    {
      "cell_type": "code",
      "execution_count": 4,
      "metadata": {
        "colab": {
          "base_uri": "https://localhost:8080/"
        },
        "id": "wLng-bDJN4jf",
        "outputId": "547683cb-5f56-4815-a903-d0d9578eb1f9"
      },
      "outputs": [
        {
          "name": "stdout",
          "output_type": "stream",
          "text": [
            "1.0\n",
            "1.4142135623730951\n",
            "1.7320508075688772\n",
            "2.0\n",
            "2.23606797749979\n"
          ]
        }
      ],
      "source": [
        "def square_root_generator(limit):\n",
        "    n = 1\n",
        "    while n <= limit:\n",
        "        yield n ** 0.5\n",
        "        n += 1\n",
        "\n",
        "# Example usage:\n",
        "limit = 5\n",
        "generator = square_root_generator(limit)\n",
        "\n",
        "for sqrt_value in generator:\n",
        "    print(sqrt_value)\n"
      ]
    },
    {
      "cell_type": "code",
      "execution_count": 17,
      "metadata": {},
      "outputs": [
        {
          "name": "stdout",
          "output_type": "stream",
          "text": [
            "8.382332347441762\n"
          ]
        }
      ],
      "source": [
        "#Q1  What is the sum of the outputs of the generator for limit = 5?\n",
        "def square_root_generator(limit):\n",
        "    n = 1\n",
        "    while n <= limit:\n",
        "        yield n ** 0.5\n",
        "        n += 1\n",
        "\n",
        "# Example usage:\n",
        "limit = 5\n",
        "generator = list(square_root_generator(limit))\n",
        "\n",
        "q1 = 0\n",
        "for sqrt_value in generator:\n",
        "    q1+=sqrt_value\n",
        "print(q1)\n"
      ]
    },
    {
      "cell_type": "code",
      "execution_count": 21,
      "metadata": {},
      "outputs": [
        {
          "name": "stdout",
          "output_type": "stream",
          "text": [
            "3.605551275463989\n"
          ]
        }
      ],
      "source": [
        "#Q2  What is the 13th number yielded\n",
        "def square_root_generator(limit):\n",
        "    n = 1\n",
        "    while n <= limit:\n",
        "        yield n ** 0.5\n",
        "        n += 1\n",
        "\n",
        "# Example usage:\n",
        "limit = 13\n",
        "generator = list(square_root_generator(limit))\n",
        "\n",
        "print(generator[12])"
      ]
    },
    {
      "cell_type": "markdown",
      "metadata": {
        "id": "xbe3q55zN43j"
      },
      "source": []
    },
    {
      "cell_type": "markdown",
      "metadata": {
        "id": "vjWhILzGJMpK"
      },
      "source": [
        "# 2. Append a generator to a table with existing data\n",
        "\n",
        "\n",
        "Below you have 2 generators. You will be tasked to load them to duckdb and answer some questions from the data\n",
        "\n",
        "1. Load the first generator and calculate the sum of ages of all people. Make sure to only load it once.\n",
        "2. Append the second generator to the same table as the first.\n",
        "3. **After correctly appending the data, calculate the sum of all ages of people.**\n",
        "\n",
        "\n"
      ]
    },
    {
      "cell_type": "code",
      "execution_count": null,
      "metadata": {
        "colab": {
          "base_uri": "https://localhost:8080/"
        },
        "id": "2MoaQcdLBEk6",
        "outputId": "d2b93dc1-d83f-44ea-aeff-fdf51d75f7aa"
      },
      "outputs": [
        {
          "name": "stdout",
          "output_type": "stream",
          "text": [
            "{'ID': 1, 'Name': 'Person_1', 'Age': 26, 'City': 'City_A'}\n",
            "{'ID': 2, 'Name': 'Person_2', 'Age': 27, 'City': 'City_A'}\n",
            "{'ID': 3, 'Name': 'Person_3', 'Age': 28, 'City': 'City_A'}\n",
            "{'ID': 4, 'Name': 'Person_4', 'Age': 29, 'City': 'City_A'}\n",
            "{'ID': 5, 'Name': 'Person_5', 'Age': 30, 'City': 'City_A'}\n",
            "{'ID': 3, 'Name': 'Person_3', 'Age': 33, 'City': 'City_B', 'Occupation': 'Job_3'}\n",
            "{'ID': 4, 'Name': 'Person_4', 'Age': 34, 'City': 'City_B', 'Occupation': 'Job_4'}\n",
            "{'ID': 5, 'Name': 'Person_5', 'Age': 35, 'City': 'City_B', 'Occupation': 'Job_5'}\n",
            "{'ID': 6, 'Name': 'Person_6', 'Age': 36, 'City': 'City_B', 'Occupation': 'Job_6'}\n",
            "{'ID': 7, 'Name': 'Person_7', 'Age': 37, 'City': 'City_B', 'Occupation': 'Job_7'}\n",
            "{'ID': 8, 'Name': 'Person_8', 'Age': 38, 'City': 'City_B', 'Occupation': 'Job_8'}\n"
          ]
        }
      ],
      "source": [
        "def people_1():\n",
        "    for i in range(1, 6):\n",
        "        yield {\"ID\": i, \"Name\": f\"Person_{i}\", \"Age\": 25 + i, \"City\": \"City_A\"}\n",
        "\n",
        "for person in people_1():\n",
        "    print(person)\n",
        "\n",
        "\n",
        "def people_2():\n",
        "    for i in range(3, 9):\n",
        "        yield {\"ID\": i, \"Name\": f\"Person_{i}\", \"Age\": 30 + i, \"City\": \"City_B\", \"Occupation\": f\"Job_{i}\"}\n",
        "\n",
        "\n",
        "for person in people_2():\n",
        "    print(person)\n"
      ]
    },
    {
      "cell_type": "code",
      "execution_count": 21,
      "metadata": {},
      "outputs": [
        {
          "name": "stdout",
          "output_type": "stream",
          "text": [
            "Pipeline people_data load step completed in 0.23 seconds\n",
            "1 load package(s) were loaded to destination duckdb and into dataset people_info\n",
            "The duckdb destination used duckdb:///e:\\Data Engineering\\data-engineering-zoomcamp\\workshop_1_data_ingestion\\people_data.duckdb location to store data\n",
            "Load package 1708254778.0607378 is LOADED and contains no failed jobs\n"
          ]
        }
      ],
      "source": [
        "#Load first generator\n",
        "import dlt\n",
        "\n",
        "def people_1():\n",
        "    for i in range(1, 6):\n",
        "        yield {\"ID\": i, \"Name\": f\"Person_{i}\", \"Age\": 25 + i, \"City\": \"City_A\"}\n",
        "\n",
        "data = list(people_1())\n",
        "\n",
        "pipeline = dlt.pipeline(pipeline_name='people_data',\n",
        "                        destination='duckdb', \n",
        "                        dataset_name='people_info')\n",
        "info = pipeline.run(data,\n",
        "                    table_name = \"people\",\n",
        "                    write_disposition=\"replace\")\n",
        "\n",
        "print(info)\n"
      ]
    },
    {
      "cell_type": "code",
      "execution_count": 22,
      "metadata": {},
      "outputs": [
        {
          "name": "stdout",
          "output_type": "stream",
          "text": [
            "Pipeline people_data load step completed in 0.23 seconds\n",
            "1 load package(s) were loaded to destination duckdb and into dataset people_info\n",
            "The duckdb destination used duckdb:///e:\\Data Engineering\\data-engineering-zoomcamp\\workshop_1_data_ingestion\\people_data.duckdb location to store data\n",
            "Load package 1708254795.0543318 is LOADED and contains no failed jobs\n"
          ]
        }
      ],
      "source": [
        "#Append second generator\n",
        "\n",
        "def people_2():\n",
        "    for i in range(3, 9):\n",
        "        yield {\"ID\": i, \"Name\": f\"Person_{i}\", \"Age\": 30 + i, \"City\": \"City_B\", \"Occupation\": f\"Job_{i}\"}\n",
        "\n",
        "data = list(people_2())\n",
        "\n",
        "pipeline = dlt.pipeline(pipeline_name='people_data',\n",
        "                        destination='duckdb', \n",
        "                        dataset_name='people_info')\n",
        "info = pipeline.run(data,\n",
        "                    table_name = \"people\",\n",
        "                    write_disposition=\"append\")\n",
        "\n",
        "print(info)\n"
      ]
    },
    {
      "cell_type": "code",
      "execution_count": 25,
      "metadata": {},
      "outputs": [
        {
          "data": {
            "text/html": [
              "<div>\n",
              "<style scoped>\n",
              "    .dataframe tbody tr th:only-of-type {\n",
              "        vertical-align: middle;\n",
              "    }\n",
              "\n",
              "    .dataframe tbody tr th {\n",
              "        vertical-align: top;\n",
              "    }\n",
              "\n",
              "    .dataframe thead th {\n",
              "        text-align: right;\n",
              "    }\n",
              "</style>\n",
              "<table border=\"1\" class=\"dataframe\">\n",
              "  <thead>\n",
              "    <tr style=\"text-align: right;\">\n",
              "      <th></th>\n",
              "      <th>id</th>\n",
              "      <th>name</th>\n",
              "      <th>age</th>\n",
              "      <th>city</th>\n",
              "      <th>_dlt_load_id</th>\n",
              "      <th>_dlt_id</th>\n",
              "      <th>occupation</th>\n",
              "    </tr>\n",
              "  </thead>\n",
              "  <tbody>\n",
              "    <tr>\n",
              "      <th>0</th>\n",
              "      <td>1</td>\n",
              "      <td>Person_1</td>\n",
              "      <td>26</td>\n",
              "      <td>City_A</td>\n",
              "      <td>1708254778.0607378</td>\n",
              "      <td>TTPaMg9gK5J9NA</td>\n",
              "      <td>None</td>\n",
              "    </tr>\n",
              "    <tr>\n",
              "      <th>1</th>\n",
              "      <td>2</td>\n",
              "      <td>Person_2</td>\n",
              "      <td>27</td>\n",
              "      <td>City_A</td>\n",
              "      <td>1708254778.0607378</td>\n",
              "      <td>8U7zpIPC/bT6LA</td>\n",
              "      <td>None</td>\n",
              "    </tr>\n",
              "    <tr>\n",
              "      <th>2</th>\n",
              "      <td>3</td>\n",
              "      <td>Person_3</td>\n",
              "      <td>28</td>\n",
              "      <td>City_A</td>\n",
              "      <td>1708254778.0607378</td>\n",
              "      <td>J4clbcdKaMWDSw</td>\n",
              "      <td>None</td>\n",
              "    </tr>\n",
              "    <tr>\n",
              "      <th>3</th>\n",
              "      <td>4</td>\n",
              "      <td>Person_4</td>\n",
              "      <td>29</td>\n",
              "      <td>City_A</td>\n",
              "      <td>1708254778.0607378</td>\n",
              "      <td>ZINvTO8wq5wI6Q</td>\n",
              "      <td>None</td>\n",
              "    </tr>\n",
              "    <tr>\n",
              "      <th>4</th>\n",
              "      <td>5</td>\n",
              "      <td>Person_5</td>\n",
              "      <td>30</td>\n",
              "      <td>City_A</td>\n",
              "      <td>1708254778.0607378</td>\n",
              "      <td>FAe+V6EUDReCtQ</td>\n",
              "      <td>None</td>\n",
              "    </tr>\n",
              "    <tr>\n",
              "      <th>5</th>\n",
              "      <td>3</td>\n",
              "      <td>Person_3</td>\n",
              "      <td>33</td>\n",
              "      <td>City_B</td>\n",
              "      <td>1708254795.0543318</td>\n",
              "      <td>0UiDCR5zcCrG6g</td>\n",
              "      <td>Job_3</td>\n",
              "    </tr>\n",
              "    <tr>\n",
              "      <th>6</th>\n",
              "      <td>4</td>\n",
              "      <td>Person_4</td>\n",
              "      <td>34</td>\n",
              "      <td>City_B</td>\n",
              "      <td>1708254795.0543318</td>\n",
              "      <td>qywHN0U4Yrs34w</td>\n",
              "      <td>Job_4</td>\n",
              "    </tr>\n",
              "    <tr>\n",
              "      <th>7</th>\n",
              "      <td>5</td>\n",
              "      <td>Person_5</td>\n",
              "      <td>35</td>\n",
              "      <td>City_B</td>\n",
              "      <td>1708254795.0543318</td>\n",
              "      <td>vjUV4ya3nd8+/Q</td>\n",
              "      <td>Job_5</td>\n",
              "    </tr>\n",
              "    <tr>\n",
              "      <th>8</th>\n",
              "      <td>6</td>\n",
              "      <td>Person_6</td>\n",
              "      <td>36</td>\n",
              "      <td>City_B</td>\n",
              "      <td>1708254795.0543318</td>\n",
              "      <td>L7d+yIUbj5LEuA</td>\n",
              "      <td>Job_6</td>\n",
              "    </tr>\n",
              "    <tr>\n",
              "      <th>9</th>\n",
              "      <td>7</td>\n",
              "      <td>Person_7</td>\n",
              "      <td>37</td>\n",
              "      <td>City_B</td>\n",
              "      <td>1708254795.0543318</td>\n",
              "      <td>We6rbD2nd8/Hfw</td>\n",
              "      <td>Job_7</td>\n",
              "    </tr>\n",
              "    <tr>\n",
              "      <th>10</th>\n",
              "      <td>8</td>\n",
              "      <td>Person_8</td>\n",
              "      <td>38</td>\n",
              "      <td>City_B</td>\n",
              "      <td>1708254795.0543318</td>\n",
              "      <td>8KstnZ0goviwCQ</td>\n",
              "      <td>Job_8</td>\n",
              "    </tr>\n",
              "  </tbody>\n",
              "</table>\n",
              "</div>"
            ],
            "text/plain": [
              "    id      name  age    city        _dlt_load_id         _dlt_id occupation\n",
              "0    1  Person_1   26  City_A  1708254778.0607378  TTPaMg9gK5J9NA       None\n",
              "1    2  Person_2   27  City_A  1708254778.0607378  8U7zpIPC/bT6LA       None\n",
              "2    3  Person_3   28  City_A  1708254778.0607378  J4clbcdKaMWDSw       None\n",
              "3    4  Person_4   29  City_A  1708254778.0607378  ZINvTO8wq5wI6Q       None\n",
              "4    5  Person_5   30  City_A  1708254778.0607378  FAe+V6EUDReCtQ       None\n",
              "5    3  Person_3   33  City_B  1708254795.0543318  0UiDCR5zcCrG6g      Job_3\n",
              "6    4  Person_4   34  City_B  1708254795.0543318  qywHN0U4Yrs34w      Job_4\n",
              "7    5  Person_5   35  City_B  1708254795.0543318  vjUV4ya3nd8+/Q      Job_5\n",
              "8    6  Person_6   36  City_B  1708254795.0543318  L7d+yIUbj5LEuA      Job_6\n",
              "9    7  Person_7   37  City_B  1708254795.0543318  We6rbD2nd8/Hfw      Job_7\n",
              "10   8  Person_8   38  City_B  1708254795.0543318  8KstnZ0goviwCQ      Job_8"
            ]
          },
          "execution_count": 25,
          "metadata": {},
          "output_type": "execute_result"
        }
      ],
      "source": [
        "pipeline = dlt.pipeline(\n",
        "    pipeline_name=\"people_data\",\n",
        "    destination=\"duckdb\",\n",
        "    dataset_name=\"people_info\",\n",
        "    full_refresh=True\n",
        ")\n",
        "with pipeline.sql_client() as client:\n",
        "    with client.execute_query(\n",
        "        'SELECT * FROM people_info.people'\n",
        "    ) as table:\n",
        "        # calling `df` on a cursor, returns the data as a DataFrame\n",
        "        people_df = table.df()\n",
        "\n",
        "people_df"
      ]
    },
    {
      "cell_type": "code",
      "execution_count": 27,
      "metadata": {},
      "outputs": [
        {
          "data": {
            "text/html": [
              "<div>\n",
              "<style scoped>\n",
              "    .dataframe tbody tr th:only-of-type {\n",
              "        vertical-align: middle;\n",
              "    }\n",
              "\n",
              "    .dataframe tbody tr th {\n",
              "        vertical-align: top;\n",
              "    }\n",
              "\n",
              "    .dataframe thead th {\n",
              "        text-align: right;\n",
              "    }\n",
              "</style>\n",
              "<table border=\"1\" class=\"dataframe\">\n",
              "  <thead>\n",
              "    <tr style=\"text-align: right;\">\n",
              "      <th></th>\n",
              "      <th>sum(age)</th>\n",
              "    </tr>\n",
              "  </thead>\n",
              "  <tbody>\n",
              "    <tr>\n",
              "      <th>0</th>\n",
              "      <td>353.0</td>\n",
              "    </tr>\n",
              "  </tbody>\n",
              "</table>\n",
              "</div>"
            ],
            "text/plain": [
              "   sum(age)\n",
              "0     353.0"
            ]
          },
          "execution_count": 27,
          "metadata": {},
          "output_type": "execute_result"
        }
      ],
      "source": [
        "#Q3  Append the 2 generators. After correctly appending the data, calculate the sum of all ages of people.\n",
        "pipeline = dlt.pipeline(\n",
        "    pipeline_name=\"people_data\",\n",
        "    destination=\"duckdb\",\n",
        "    dataset_name=\"people_info\",\n",
        "    full_refresh=True\n",
        ")\n",
        "with pipeline.sql_client() as client:\n",
        "    with client.execute_query(\n",
        "        'SELECT sum(age) FROM people_info.people'\n",
        "    ) as table:\n",
        "        # calling `df` on a cursor, returns the data as a DataFrame\n",
        "        q3 = table.df()\n",
        "\n",
        "q3"
      ]
    },
    {
      "cell_type": "markdown",
      "metadata": {
        "id": "vtdTIm4fvQCN"
      },
      "source": []
    },
    {
      "cell_type": "markdown",
      "metadata": {
        "id": "pY4cFAWOSwN1"
      },
      "source": [
        "# 3. Merge a generator\n",
        "\n",
        "Re-use the generators from Exercise 2.\n",
        "\n",
        "A table's primary key needs to be created from the start, so load your data to a new table with primary key ID.\n",
        "\n",
        "Load your first generator first, and then load the second one with merge. Since they have overlapping IDs, some of the records from the first load should be replaced by the ones from the second load.\n",
        "\n",
        "After loading, you should have a total of 8 records, and ID 3 should have age 33.\n",
        "\n",
        "Question: **Calculate the sum of ages of all the people loaded as described above.**\n"
      ]
    },
    {
      "cell_type": "markdown",
      "metadata": {
        "id": "kKB2GTB9oVjr"
      },
      "source": [
        "# Solution: First make sure that the following modules are installed:"
      ]
    },
    {
      "cell_type": "code",
      "execution_count": 18,
      "metadata": {
        "id": "xTVvtyqrfVNq"
      },
      "outputs": [
        {
          "name": "stderr",
          "output_type": "stream",
          "text": [
            "UsageError: Line magic function `%%capture` not found.\n"
          ]
        }
      ],
      "source": [
        "#Install the dependencies\n",
        "%%capture\n",
        "!pip install dlt[duckdb]"
      ]
    },
    {
      "cell_type": "code",
      "execution_count": 28,
      "metadata": {
        "id": "a2-PRBAkGC2K"
      },
      "outputs": [
        {
          "name": "stdout",
          "output_type": "stream",
          "text": [
            "Pipeline people_data load step completed in 0.31 seconds\n",
            "1 load package(s) were loaded to destination duckdb and into dataset people_info\n",
            "The duckdb destination used duckdb:///e:\\Data Engineering\\data-engineering-zoomcamp\\workshop_1_data_ingestion\\people_data.duckdb location to store data\n",
            "Load package 1708255055.830727 is LOADED and contains no failed jobs\n"
          ]
        }
      ],
      "source": [
        "#Load first generator\n",
        "import dlt\n",
        "\n",
        "def people_1():\n",
        "    for i in range(1, 6):\n",
        "        yield {\"ID\": i, \"Name\": f\"Person_{i}\", \"Age\": 25 + i, \"City\": \"City_A\"}\n",
        "\n",
        "data = list(people_1())\n",
        "\n",
        "pipeline = dlt.pipeline(pipeline_name='people_data',\n",
        "                        destination='duckdb', \n",
        "                        dataset_name='people_info')\n",
        "info = pipeline.run(data,\n",
        "                    table_name = \"people_new\",\n",
        "                    write_disposition=\"replace\")\n",
        "\n",
        "print(info)\n"
      ]
    },
    {
      "cell_type": "code",
      "execution_count": 31,
      "metadata": {},
      "outputs": [
        {
          "name": "stdout",
          "output_type": "stream",
          "text": [
            "Pipeline people_data load step completed in 0.55 seconds\n",
            "1 load package(s) were loaded to destination duckdb and into dataset people_info\n",
            "The duckdb destination used duckdb:///e:\\Data Engineering\\data-engineering-zoomcamp\\workshop_1_data_ingestion\\people_data.duckdb location to store data\n",
            "Load package 1708255600.4423137 is LOADED and contains no failed jobs\n"
          ]
        }
      ],
      "source": [
        "#Append second generator\n",
        "\n",
        "def people_2():\n",
        "    for i in range(3, 9):\n",
        "        yield {\"ID\": i, \"Name\": f\"Person_{i}\", \"Age\": 30 + i, \"City\": \"City_B\", \"Occupation\": f\"Job_{i}\"}\n",
        "\n",
        "data = list(people_2())\n",
        "\n",
        "pipeline = dlt.pipeline(pipeline_name='people_data',\n",
        "                        destination='duckdb', \n",
        "                        dataset_name='people_info')\n",
        "info = pipeline.run(data,\n",
        "                    table_name = \"people_new\",\n",
        "                    write_disposition=\"merge\",\n",
        "                    primary_key=\"ID\"\n",
        ")\n",
        "\n",
        "print(info)\n"
      ]
    },
    {
      "cell_type": "code",
      "execution_count": 32,
      "metadata": {},
      "outputs": [
        {
          "data": {
            "text/html": [
              "<div>\n",
              "<style scoped>\n",
              "    .dataframe tbody tr th:only-of-type {\n",
              "        vertical-align: middle;\n",
              "    }\n",
              "\n",
              "    .dataframe tbody tr th {\n",
              "        vertical-align: top;\n",
              "    }\n",
              "\n",
              "    .dataframe thead th {\n",
              "        text-align: right;\n",
              "    }\n",
              "</style>\n",
              "<table border=\"1\" class=\"dataframe\">\n",
              "  <thead>\n",
              "    <tr style=\"text-align: right;\">\n",
              "      <th></th>\n",
              "      <th>id</th>\n",
              "      <th>name</th>\n",
              "      <th>age</th>\n",
              "      <th>city</th>\n",
              "      <th>_dlt_load_id</th>\n",
              "      <th>_dlt_id</th>\n",
              "      <th>occupation</th>\n",
              "    </tr>\n",
              "  </thead>\n",
              "  <tbody>\n",
              "    <tr>\n",
              "      <th>0</th>\n",
              "      <td>1</td>\n",
              "      <td>Person_1</td>\n",
              "      <td>26</td>\n",
              "      <td>City_A</td>\n",
              "      <td>1708255055.830727</td>\n",
              "      <td>+cb8D4P0OP8Q3A</td>\n",
              "      <td>None</td>\n",
              "    </tr>\n",
              "    <tr>\n",
              "      <th>1</th>\n",
              "      <td>2</td>\n",
              "      <td>Person_2</td>\n",
              "      <td>27</td>\n",
              "      <td>City_A</td>\n",
              "      <td>1708255055.830727</td>\n",
              "      <td>PBRT2uHEh0ovRQ</td>\n",
              "      <td>None</td>\n",
              "    </tr>\n",
              "    <tr>\n",
              "      <th>2</th>\n",
              "      <td>5</td>\n",
              "      <td>Person_5</td>\n",
              "      <td>35</td>\n",
              "      <td>City_B</td>\n",
              "      <td>1708255600.4423137</td>\n",
              "      <td>Q8NHN92Jauba8A</td>\n",
              "      <td>Job_5</td>\n",
              "    </tr>\n",
              "    <tr>\n",
              "      <th>3</th>\n",
              "      <td>7</td>\n",
              "      <td>Person_7</td>\n",
              "      <td>37</td>\n",
              "      <td>City_B</td>\n",
              "      <td>1708255600.4423137</td>\n",
              "      <td>4wwMd4p8VRth3Q</td>\n",
              "      <td>Job_7</td>\n",
              "    </tr>\n",
              "    <tr>\n",
              "      <th>4</th>\n",
              "      <td>4</td>\n",
              "      <td>Person_4</td>\n",
              "      <td>34</td>\n",
              "      <td>City_B</td>\n",
              "      <td>1708255600.4423137</td>\n",
              "      <td>7gK7PxmM2/nZeg</td>\n",
              "      <td>Job_4</td>\n",
              "    </tr>\n",
              "    <tr>\n",
              "      <th>5</th>\n",
              "      <td>8</td>\n",
              "      <td>Person_8</td>\n",
              "      <td>38</td>\n",
              "      <td>City_B</td>\n",
              "      <td>1708255600.4423137</td>\n",
              "      <td>8Y3+y4KKZfMH0A</td>\n",
              "      <td>Job_8</td>\n",
              "    </tr>\n",
              "    <tr>\n",
              "      <th>6</th>\n",
              "      <td>3</td>\n",
              "      <td>Person_3</td>\n",
              "      <td>33</td>\n",
              "      <td>City_B</td>\n",
              "      <td>1708255600.4423137</td>\n",
              "      <td>sy0cNZnupOBsCA</td>\n",
              "      <td>Job_3</td>\n",
              "    </tr>\n",
              "    <tr>\n",
              "      <th>7</th>\n",
              "      <td>6</td>\n",
              "      <td>Person_6</td>\n",
              "      <td>36</td>\n",
              "      <td>City_B</td>\n",
              "      <td>1708255600.4423137</td>\n",
              "      <td>5iiVdTAoT5Z6iA</td>\n",
              "      <td>Job_6</td>\n",
              "    </tr>\n",
              "  </tbody>\n",
              "</table>\n",
              "</div>"
            ],
            "text/plain": [
              "   id      name  age    city        _dlt_load_id         _dlt_id occupation\n",
              "0   1  Person_1   26  City_A   1708255055.830727  +cb8D4P0OP8Q3A       None\n",
              "1   2  Person_2   27  City_A   1708255055.830727  PBRT2uHEh0ovRQ       None\n",
              "2   5  Person_5   35  City_B  1708255600.4423137  Q8NHN92Jauba8A      Job_5\n",
              "3   7  Person_7   37  City_B  1708255600.4423137  4wwMd4p8VRth3Q      Job_7\n",
              "4   4  Person_4   34  City_B  1708255600.4423137  7gK7PxmM2/nZeg      Job_4\n",
              "5   8  Person_8   38  City_B  1708255600.4423137  8Y3+y4KKZfMH0A      Job_8\n",
              "6   3  Person_3   33  City_B  1708255600.4423137  sy0cNZnupOBsCA      Job_3\n",
              "7   6  Person_6   36  City_B  1708255600.4423137  5iiVdTAoT5Z6iA      Job_6"
            ]
          },
          "execution_count": 32,
          "metadata": {},
          "output_type": "execute_result"
        }
      ],
      "source": [
        "pipeline = dlt.pipeline(\n",
        "    pipeline_name=\"people_data\",\n",
        "    destination=\"duckdb\",\n",
        "    dataset_name=\"people_info\",\n",
        "    full_refresh=True\n",
        ")\n",
        "with pipeline.sql_client() as client:\n",
        "    with client.execute_query(\n",
        "        'SELECT * FROM people_info.people_new'\n",
        "    ) as table:\n",
        "        # calling `df` on a cursor, returns the data as a DataFrame\n",
        "        people_new_df = table.df()\n",
        "\n",
        "people_new_df"
      ]
    },
    {
      "cell_type": "code",
      "execution_count": 33,
      "metadata": {},
      "outputs": [
        {
          "data": {
            "text/html": [
              "<div>\n",
              "<style scoped>\n",
              "    .dataframe tbody tr th:only-of-type {\n",
              "        vertical-align: middle;\n",
              "    }\n",
              "\n",
              "    .dataframe tbody tr th {\n",
              "        vertical-align: top;\n",
              "    }\n",
              "\n",
              "    .dataframe thead th {\n",
              "        text-align: right;\n",
              "    }\n",
              "</style>\n",
              "<table border=\"1\" class=\"dataframe\">\n",
              "  <thead>\n",
              "    <tr style=\"text-align: right;\">\n",
              "      <th></th>\n",
              "      <th>sum(age)</th>\n",
              "    </tr>\n",
              "  </thead>\n",
              "  <tbody>\n",
              "    <tr>\n",
              "      <th>0</th>\n",
              "      <td>266.0</td>\n",
              "    </tr>\n",
              "  </tbody>\n",
              "</table>\n",
              "</div>"
            ],
            "text/plain": [
              "   sum(age)\n",
              "0     266.0"
            ]
          },
          "execution_count": 33,
          "metadata": {},
          "output_type": "execute_result"
        }
      ],
      "source": [
        "#Q4  Merge the 2 generators using the ID column. Calculate the sum of ages of all the people loaded as described above\n",
        "pipeline = dlt.pipeline(\n",
        "    pipeline_name=\"people_data\",\n",
        "    destination=\"duckdb\",\n",
        "    dataset_name=\"people_info\",\n",
        "    full_refresh=True\n",
        ")\n",
        "with pipeline.sql_client() as client:\n",
        "    with client.execute_query(\n",
        "        'SELECT sum(age) FROM people_info.people_new'\n",
        "    ) as table:\n",
        "        # calling `df` on a cursor, returns the data as a DataFrame\n",
        "        q4 = table.df()\n",
        "\n",
        "q4"
      ]
    },
    {
      "cell_type": "markdown",
      "metadata": {
        "id": "PoTJu4kbGG0z"
      },
      "source": [
        "Questions? difficulties? We are here to help.\n",
        "- DTC data engineering course channel: https://datatalks-club.slack.com/archives/C01FABYF2RG\n",
        "- dlt's DTC cohort channel: https://dlthub-community.slack.com/archives/C06GAEX2VNX"
      ]
    }
  ],
  "metadata": {
    "colab": {
      "provenance": []
    },
    "kernelspec": {
      "display_name": "Python 3",
      "name": "python3"
    },
    "language_info": {
      "codemirror_mode": {
        "name": "ipython",
        "version": 3
      },
      "file_extension": ".py",
      "mimetype": "text/x-python",
      "name": "python",
      "nbconvert_exporter": "python",
      "pygments_lexer": "ipython3",
      "version": "3.12.1"
    }
  },
  "nbformat": 4,
  "nbformat_minor": 0
}
